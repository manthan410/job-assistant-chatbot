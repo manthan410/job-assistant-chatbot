{
 "cells": [
  {
   "cell_type": "code",
   "execution_count": null,
   "id": "176f927d",
   "metadata": {},
   "outputs": [],
   "source": [
    "import requests\n",
    "from bs4 import BeautifulSoup\n",
    "import pytesseract\n",
    "from PIL import Image\n",
    "\n",
    "# Define the URL to scrape\n",
    "url = \"https://www.amazon.com/dp/B08G9JP6BR/\"\n",
    "\n",
    "# Fetch the webpage content\n",
    "page = requests.get(url)\n",
    "soup = BeautifulSoup(page.content, 'html.parser')\n",
    "\n",
    "# Extract product name\n",
    "product_name = soup.find(id=\"productTitle\").get_text().strip()\n",
    "\n",
    "# Extract product description\n",
    "product_description = \"\"\n",
    "description_elements = soup.find_all(\"div\", {\"id\": \"feature-bullets\"})\n",
    "for element in description_elements:\n",
    "    for li in element.find_all(\"li\"):\n",
    "        product_description += li.get_text().strip() + \"\\n\"\n",
    "\n",
    "# Extract product price\n",
    "product_price = soup.find(id=\"priceblock_ourprice\").get_text().strip()\n",
    "\n",
    "# Extract product reviews\n",
    "review_url = url + \"/#customerReviews\"\n",
    "review_page = requests.get(review_url)\n",
    "review_soup = BeautifulSoup(review_page.content, 'html.parser')\n",
    "review_rating = review_soup.find(\"span\", {\"class\": \"a-icon-alt\"}).get_text().split()[0]\n",
    "\n",
    "# Extract product image\n",
    "image_url = soup.find(\"div\", {\"id\": \"imgTagWrapperId\"}).find(\"img\")[\"src\"]\n",
    "image = Image.open(requests.get(image_url, stream=True).raw)\n",
    "product_image_text = pytesseract.image_to_string(image)\n",
    "\n",
    "# Print the extracted data\n",
    "print(\"Product Name:\", product_name)\n",
    "print(\"Product Description:\", product_description)\n",
    "print(\"Product Price:\", product_price)\n",
    "print(\"Product Rating:\", review_rating)\n",
    "print(\"Product Image Text:\", product_image_text)\n"
   ]
  }
 ],
 "metadata": {
  "kernelspec": {
   "display_name": "Python 3 (ipykernel)",
   "language": "python",
   "name": "python3"
  },
  "language_info": {
   "codemirror_mode": {
    "name": "ipython",
    "version": 3
   },
   "file_extension": ".py",
   "mimetype": "text/x-python",
   "name": "python",
   "nbconvert_exporter": "python",
   "pygments_lexer": "ipython3",
   "version": "3.9.13"
  }
 },
 "nbformat": 4,
 "nbformat_minor": 5
}
